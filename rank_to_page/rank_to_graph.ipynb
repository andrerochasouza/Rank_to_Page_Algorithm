{
 "cells": [
  {
   "cell_type": "markdown",
   "id": "4a55e964",
   "metadata": {},
   "source": [
    "# Sobre o algoritmo\n",
    "\n",
    "O intuito desse jupyter notebook é desenvolver o algoritmo de rank de grafo, tendo como base o algoritmo PageRank de Stanford, criado por Larry Page, co-fundador da Google, muito utilizado para ranquear as páginas mais relevantes da Web pelos hiperlink conectados.\n",
    "\n",
    "----------------\n",
    "Bibliotecas utilizadas"
   ]
  },
  {
   "cell_type": "code",
   "execution_count": 822,
   "id": "85e3876e",
   "metadata": {},
   "outputs": [],
   "source": [
    "import numpy as np\n",
    "import matplotlib.pyplot as plt\n",
    "import networkx as nx\n",
    "import random"
   ]
  },
  {
   "cell_type": "markdown",
   "id": "bbdc25ee",
   "metadata": {},
   "source": [
    "-----------------------\n",
    "Criando grafo com arestas direcionadas"
   ]
  },
  {
   "cell_type": "code",
   "execution_count": 823,
   "metadata": {},
   "outputs": [
    {
     "data": {
      "image/png": "[encoded data removed]",
      "text/plain": [
       "<Figure size 432x288 with 1 Axes>"
      ]
     },
     "metadata": {},
     "output_type": "display_data"
    }
   ],
   "source": [
    "def create_graph(nodes, edges):\n",
    "    G = nx.DiGraph()\n",
    "    for i in range(nodes):\n",
    "        G.add_node(chr(i+65))\n",
    "    \n",
    "    for i in range(edges):\n",
    "        G.add_edge(chr(random.randint(65, nodes+64)), chr(random.randint(65, nodes+64)))\n",
    "\n",
    "    return G\n",
    "\n",
    "G = create_graph(6, 15)\n",
    "\n",
    "options = {\n",
    "    'arrowsize': 20,\n",
    "    'width': 2,\n",
    "    'arrowstyle': '-|>'\n",
    "}\n",
    "\n",
    "pos = nx.circular_layout(G, scale=1)\n",
    "nx.draw(G, pos, with_labels=True, **options, node_size=1000)\n",
    "plt.show()\n"
   ]
  },
  {
   "cell_type": "markdown",
   "id": "d954eb44",
   "metadata": {},
   "source": [
    "----------------\n",
    "Criando matriz de adjacências para melhor visualização do grafo"
   ]
  },
  {
   "cell_type": "code",
   "execution_count": 824,
   "id": "bb194b44",
   "metadata": {},
   "outputs": [
    {
     "name": "stdout",
     "output_type": "stream",
     "text": [
      "[[0. 1. 1. 0. 0. 0.]\n",
      " [1. 0. 0. 1. 0. 1.]\n",
      " [0. 0. 0. 1. 1. 1.]\n",
      " [0. 0. 1. 1. 0. 0.]\n",
      " [0. 0. 0. 1. 1. 0.]\n",
      " [0. 1. 0. 0. 0. 1.]]\n"
     ]
    },
    {
     "data": {
      "image/png": "[encoded data removed]",
      "text/plain": [
       "<Figure size 432x288 with 1 Axes>"
      ]
     },
     "metadata": {
      "needs_background": "light"
     },
     "output_type": "display_data"
    }
   ],
   "source": [
    "matriz = nx.to_numpy_matrix(G)\n",
    "print(matriz)\n",
    "\n",
    "\n",
    "plt.imshow(matriz, cmap='Reds', interpolation='nearest')\n",
    "plt.xticks(range(len(matriz)), list(G.nodes()))\n",
    "plt.yticks(range(len(matriz)), list(G.nodes()))\n",
    "plt.show()\n"
   ]
  },
  {
   "cell_type": "markdown",
   "id": "522f756f",
   "metadata": {},
   "source": [
    "----------------\n",
    "\n",
    "Calculo de ranqueamento dos nós:\n",
    "\n",
    "<div style=\"background-color: white; width: 300px\">\n",
    "    <img src=\"calc_to_rank.png\">\n",
    "</div>"
   ]
  },
  {
   "cell_type": "code",
   "execution_count": 825,
   "id": "acaa7c18",
   "metadata": {},
   "outputs": [],
   "source": [
    "def rank_to_page(matriz, page_rank):\n",
    "    N = len(matriz)\n",
    "    D = .85\n",
    "    \n",
    "    matriz_prob = np.zeros((N, N))\n",
    "\n",
    "    for i in range(len(matriz)):\n",
    "        for j in range(N):\n",
    "            if np.sum(matriz[i,:]) == 0:\n",
    "                matriz_prob[i,j] = 1 / N\n",
    "            else: \n",
    "                matriz_prob[i,j] = matriz[i,j] / np.sum(matriz[i,:])\n",
    "    \n",
    "    for i in range(N):\n",
    "        for j in range(N):\n",
    "            matriz_prob[i,j] = (1 - D) / N + D * matriz_prob[i,j]\n",
    "\n",
    "    pr_next = np.zeros(N)\n",
    "    for i in range(N):\n",
    "        for j in range(N):\n",
    "            pr_next[i] += matriz_prob[j,i] * page_rank[j]\n",
    "    \n",
    "    return pr_next\n"
   ]
  },
  {
   "cell_type": "code",
   "execution_count": 826,
   "id": "79592349",
   "metadata": {},
   "outputs": [
    {
     "name": "stdout",
     "output_type": "stream",
     "text": [
      "[0.07222222 0.16666667 0.16666667 0.26111111 0.14305556 0.19027778]\n"
     ]
    },
    {
     "data": {
      "image/png": "[encoded data removed]",
      "text/plain": [
       "<Figure size 432x288 with 1 Axes>"
      ]
     },
     "metadata": {
      "needs_background": "light"
     },
     "output_type": "display_data"
    }
   ],
   "source": [
    "\n",
    "page_rank = np.array([1/len(matriz) for i in range(len(matriz))])\n",
    "rank_nodes = rank_to_page(matriz, page_rank)\n",
    "print(rank_nodes)\n",
    "\n",
    "plt.bar(range(len(rank_nodes)), rank_nodes)\n",
    "plt.xticks(range(len(rank_nodes)), list(G.nodes()))\n",
    "plt.show()\n",
    "\n",
    "\n"
   ]
  },
  {
   "cell_type": "markdown",
   "id": "d402f57d",
   "metadata": {},
   "source": [
    "----------------\n",
    "Tabela iterativa de ranqueamento de nós"
   ]
  },
  {
   "cell_type": "code",
   "execution_count": 838,
   "id": "934f2611",
   "metadata": {},
   "outputs": [
    {
     "name": "stdout",
     "output_type": "stream",
     "text": [
      "[['A' '0.07222222222222222']\n",
      " ['B' '0.16666666666666666']\n",
      " ['C' '0.16666666666666669']\n",
      " ['D' '0.26111111111111107']\n",
      " ['E' '0.14305555555555557']\n",
      " ['F' '0.19027777777777777']]\n"
     ]
    },
    {
     "ename": "UFuncTypeError",
     "evalue": "ufunc 'multiply' did not contain a loop with signature matching types (dtype('float64'), dtype('<U1')) -> None",
     "output_type": "error",
     "traceback": [
      "\u001b[1;31m---------------------------------------------------------------------------\u001b[0m",
      "\u001b[1;31mUFuncTypeError\u001b[0m                            Traceback (most recent call last)",
      "\u001b[1;32mc:\\Users\\André da Rocha Souza\\Desktop\\train python\\Rank_to_Page_Algorithm\\rank_to_page\\rank_to_graph.ipynb Cell 11'\u001b[0m in \u001b[0;36m<cell line: 4>\u001b[1;34m()\u001b[0m\n\u001b[0;32m      <a href='vscode-notebook-cell:/c%3A/Users/Andr%C3%A9%20da%20Rocha%20Souza/Desktop/train%20python/Rank_to_Page_Algorithm/rank_to_page/rank_to_graph.ipynb#ch0000022?line=1'>2</a>\u001b[0m \u001b[39mprint\u001b[39m(tabela_ranque)\n\u001b[0;32m      <a href='vscode-notebook-cell:/c%3A/Users/Andr%C3%A9%20da%20Rocha%20Souza/Desktop/train%20python/Rank_to_Page_Algorithm/rank_to_page/rank_to_graph.ipynb#ch0000022?line=3'>4</a>\u001b[0m \u001b[39mfor\u001b[39;00m i \u001b[39min\u001b[39;00m \u001b[39mrange\u001b[39m(\u001b[39m5\u001b[39m):\n\u001b[1;32m----> <a href='vscode-notebook-cell:/c%3A/Users/Andr%C3%A9%20da%20Rocha%20Souza/Desktop/train%20python/Rank_to_Page_Algorithm/rank_to_page/rank_to_graph.ipynb#ch0000022?line=4'>5</a>\u001b[0m     temp \u001b[39m=\u001b[39m rank_to_page(matriz, tabela_ranque[:,i])\n\u001b[0;32m      <a href='vscode-notebook-cell:/c%3A/Users/Andr%C3%A9%20da%20Rocha%20Souza/Desktop/train%20python/Rank_to_Page_Algorithm/rank_to_page/rank_to_graph.ipynb#ch0000022?line=5'>6</a>\u001b[0m     tabela_ranque \u001b[39m=\u001b[39m np\u001b[39m.\u001b[39mcolumn_stack(tabela_ranque, temp)\n",
      "\u001b[1;32mc:\\Users\\André da Rocha Souza\\Desktop\\train python\\Rank_to_Page_Algorithm\\rank_to_page\\rank_to_graph.ipynb Cell 8'\u001b[0m in \u001b[0;36mrank_to_page\u001b[1;34m(matriz, page_rank)\u001b[0m\n\u001b[0;32m     <a href='vscode-notebook-cell:/c%3A/Users/Andr%C3%A9%20da%20Rocha%20Souza/Desktop/train%20python/Rank_to_Page_Algorithm/rank_to_page/rank_to_graph.ipynb#ch0000018?line=18'>19</a>\u001b[0m \u001b[39mfor\u001b[39;00m i \u001b[39min\u001b[39;00m \u001b[39mrange\u001b[39m(N):\n\u001b[0;32m     <a href='vscode-notebook-cell:/c%3A/Users/Andr%C3%A9%20da%20Rocha%20Souza/Desktop/train%20python/Rank_to_Page_Algorithm/rank_to_page/rank_to_graph.ipynb#ch0000018?line=19'>20</a>\u001b[0m     \u001b[39mfor\u001b[39;00m j \u001b[39min\u001b[39;00m \u001b[39mrange\u001b[39m(N):\n\u001b[1;32m---> <a href='vscode-notebook-cell:/c%3A/Users/Andr%C3%A9%20da%20Rocha%20Souza/Desktop/train%20python/Rank_to_Page_Algorithm/rank_to_page/rank_to_graph.ipynb#ch0000018?line=20'>21</a>\u001b[0m         pr_next[i] \u001b[39m+\u001b[39m\u001b[39m=\u001b[39m matriz_prob[j,i] \u001b[39m*\u001b[39;49m page_rank[j]\n\u001b[0;32m     <a href='vscode-notebook-cell:/c%3A/Users/Andr%C3%A9%20da%20Rocha%20Souza/Desktop/train%20python/Rank_to_Page_Algorithm/rank_to_page/rank_to_graph.ipynb#ch0000018?line=22'>23</a>\u001b[0m \u001b[39mreturn\u001b[39;00m pr_next\n",
      "\u001b[1;31mUFuncTypeError\u001b[0m: ufunc 'multiply' did not contain a loop with signature matching types (dtype('float64'), dtype('<U1')) -> None"
     ]
    }
   ],
   "source": [
    "tabela_ranque = np.column_stack((list(G.nodes()), rank_nodes))\n",
    "print(tabela_ranque)\n",
    "\n",
    "for i in range(5):\n",
    "    temp = rank_to_page(matriz, tabela_ranque[:,i])\n",
    "    tabela_ranque = np.column_stack(tabela_ranque, temp)"
   ]
  },
  {
   "cell_type": "code",
   "execution_count": 828,
   "metadata": {},
   "outputs": [
    {
     "data": {
      "image/png": "[encoded data removed]",
      "text/plain": [
       "<Figure size 432x288 with 1 Axes>"
      ]
     },
     "metadata": {},
     "output_type": "display_data"
    }
   ],
   "source": [
    "pos = nx.circular_layout(G, scale=1)\n",
    "\n",
    "for i in range(len(rank_nodes)):\n",
    "    nx.draw_networkx_nodes(G, pos, nodelist=[chr(i+65)], node_size=rank_nodes[i] * 10000)\n",
    "\n",
    "nx.draw_networkx_edges(G, pos, **options, alpha=1)\n",
    "nx.draw_networkx_labels(G, pos, font_size=13, font_family='sans-serif')\n",
    "plt.show()"
   ]
  },
  {
   "cell_type": "markdown",
   "id": "68bcef34",
   "metadata": {},
   "source": [
    "----------------\n",
    "\n",
    "## Referências de estudos:\n",
    "\n",
    "Algoritmo e cálculo para relevância do nó no grafo -\n",
    "<a>https://pt.wikipedia.org/wiki/PageRank</a>\n",
    "\n",
    "Biblioteca de grafos -\n",
    "<a>https://networkx.org/documentation/stable/developer/index.html</a>\n",
    "\n",
    "Cadeias de Markov -\n",
    "<a>https://pt.wikipedia.org/wiki/Cadeias_de_Markov</a>"
   ]
  }
 ],
 "metadata": {
  "interpreter": {
   "hash": "ad2bdc8ecc057115af97d19610ffacc2b4e99fae6737bb82f5d7fb13d2f2c186"
  },
  "kernelspec": {
   "display_name": "Python 3.9.12 ('base')",
   "language": "python",
   "name": "python3"
  },
  "language_info": {
   "codemirror_mode": {
    "name": "ipython",
    "version": 3
   },
   "file_extension": ".py",
   "mimetype": "text/x-python",
   "name": "python",
   "nbconvert_exporter": "python",
   "pygments_lexer": "ipython3",
   "version": "3.9.12"
  }
 },
 "nbformat": 4,
 "nbformat_minor": 5
}
