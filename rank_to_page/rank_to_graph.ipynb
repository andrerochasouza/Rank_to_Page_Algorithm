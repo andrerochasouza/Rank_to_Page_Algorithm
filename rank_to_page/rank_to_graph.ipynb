{
 "cells": [
  {
   "cell_type": "markdown",
   "id": "4a55e964",
   "metadata": {},
   "source": [
    "# Sobre o algoritmo\n",
    "\n",
    "O intuito desse jupyter notebook é desenvolver o algoritmo de rank de grafo, tendo como base o algoritmo PageRank de Stanford, criado por Larry Page, co-fundador da Google, muito utilizado para ranquear as páginas mais relevantes da Web pelos hiperlink conectados.\n",
    "\n",
    "----------------\n",
    "Bibliotecas utilizadas"
   ]
  },
  {
   "cell_type": "code",
   "execution_count": 911,
   "id": "85e3876e",
   "metadata": {},
   "outputs": [],
   "source": [
    "import numpy as np\n",
    "import matplotlib.pyplot as plt\n",
    "import networkx as nx\n",
    "import random"
   ]
  },
  {
   "cell_type": "markdown",
   "id": "bbdc25ee",
   "metadata": {},
   "source": [
    "-----------------------\n",
    "Criando grafo com arestas direcionadas"
   ]
  },
  {
   "cell_type": "code",
   "execution_count": 912,
   "metadata": {},
   "outputs": [
    {
     "data": {
      "image/png": "[encoded data removed]",
      "text/plain": [
       "<Figure size 432x288 with 1 Axes>"
      ]
     },
     "metadata": {},
     "output_type": "display_data"
    }
   ],
   "source": [
    "def create_graph(nodes, edges):\n",
    "    G = nx.DiGraph()\n",
    "    for i in range(nodes):\n",
    "        G.add_node(chr(i+65))\n",
    "    \n",
    "    for i in range(edges):\n",
    "        G.add_edge(chr(random.randint(65, nodes+64)), chr(random.randint(65, nodes+64)))\n",
    "\n",
    "    return G\n",
    "\n",
    "G = create_graph(4, 7)\n",
    "\n",
    "options = {\n",
    "    'arrowsize': 20,\n",
    "    'width': 1,\n",
    "    'arrowstyle': '-|>'\n",
    "}\n",
    "\n",
    "pos = nx.circular_layout(G, scale=1)\n",
    "nx.draw(G, pos, with_labels=True, **options, node_size=1000)\n",
    "plt.show()\n"
   ]
  },
  {
   "cell_type": "markdown",
   "id": "d954eb44",
   "metadata": {},
   "source": [
    "----------------\n",
    "Criando matriz de adjacências para melhor visualização do grafo"
   ]
  },
  {
   "cell_type": "code",
   "execution_count": 913,
   "id": "bb194b44",
   "metadata": {},
   "outputs": [
    {
     "name": "stdout",
     "output_type": "stream",
     "text": [
      "[[0. 1. 1. 0.]\n",
      " [1. 0. 1. 1.]\n",
      " [0. 1. 0. 0.]\n",
      " [0. 0. 0. 1.]]\n"
     ]
    },
    {
     "data": {
      "image/png": "[encoded data removed]",
      "text/plain": [
       "<Figure size 432x288 with 1 Axes>"
      ]
     },
     "metadata": {
      "needs_background": "light"
     },
     "output_type": "display_data"
    }
   ],
   "source": [
    "matriz = nx.to_numpy_matrix(G)\n",
    "print(matriz)\n",
    "\n",
    "\n",
    "plt.imshow(matriz, cmap='Reds', interpolation='nearest')\n",
    "plt.xticks(range(len(matriz)), list(G.nodes()))\n",
    "plt.yticks(range(len(matriz)), list(G.nodes()))\n",
    "plt.show()\n"
   ]
  },
  {
   "cell_type": "markdown",
   "id": "522f756f",
   "metadata": {},
   "source": [
    "----------------\n",
    "\n",
    "Cálculo de ranqueamento dos nós:\n",
    "\n",
    "<div style=\"background-color: white; width: 300px\">\n",
    "    <img src=\"calc_to_rank.png\">\n",
    "</div>"
   ]
  },
  {
   "cell_type": "code",
   "execution_count": 914,
   "id": "acaa7c18",
   "metadata": {},
   "outputs": [],
   "source": [
    "def rank_to_page(matriz, page_rank):\n",
    "    N = len(matriz)\n",
    "    D = .85\n",
    "    \n",
    "    matriz_prob = np.zeros((N, N))\n",
    "\n",
    "    for i in range(len(matriz)):\n",
    "        for j in range(N):\n",
    "            if np.sum(matriz[i,:]) == 0:\n",
    "                matriz_prob[i,j] = 1 / N\n",
    "            else: \n",
    "                matriz_prob[i,j] = matriz[i,j] / np.sum(matriz[i,:])\n",
    "    \n",
    "    for i in range(N):\n",
    "        for j in range(N):\n",
    "            matriz_prob[i,j] = (1 - D) / N + D * matriz_prob[i,j]\n",
    "\n",
    "    pr_next = np.zeros(N)\n",
    "    for i in range(N):\n",
    "        for j in range(N):\n",
    "            pr_next[i] += matriz_prob[j,i] * page_rank[j]\n",
    "    \n",
    "    return pr_next\n"
   ]
  },
  {
   "cell_type": "code",
   "execution_count": 915,
   "id": "79592349",
   "metadata": {},
   "outputs": [
    {
     "name": "stdout",
     "output_type": "stream",
     "text": [
      "[0.10833333 0.35625    0.21458333 0.32083333]\n"
     ]
    },
    {
     "data": {
      "image/png": "[encoded data removed]",
      "text/plain": [
       "<Figure size 432x288 with 1 Axes>"
      ]
     },
     "metadata": {
      "needs_background": "light"
     },
     "output_type": "display_data"
    }
   ],
   "source": [
    "\n",
    "page_rank = np.array([1/len(matriz) for i in range(len(matriz))])\n",
    "rank_nodes = rank_to_page(matriz, page_rank)\n",
    "print(rank_nodes)\n",
    "\n",
    "plt.bar(range(len(rank_nodes)), rank_nodes)\n",
    "plt.xticks(range(len(rank_nodes)), list(G.nodes()))\n",
    "plt.show()"
   ]
  },
  {
   "cell_type": "markdown",
   "id": "ce471284",
   "metadata": {},
   "source": [
    "----------------\n",
    "Tabela iterativa de ranqueamento de nós (melhor precisão para nós com mais arestas)"
   ]
  },
  {
   "cell_type": "code",
   "execution_count": 916,
   "id": "934f2611",
   "metadata": {},
   "outputs": [
    {
     "name": "stdout",
     "output_type": "stream",
     "text": [
      "[[0.108 0.138 0.113 0.109 0.103 0.099]\n",
      " [0.356 0.266 0.253 0.231 0.218 0.208]\n",
      " [0.215 0.184 0.172 0.157 0.149 0.143]\n",
      " [0.321 0.411 0.462 0.502 0.53  0.55 ]]\n"
     ]
    },
    {
     "data": {
      "image/png": "[encoded data removed]",
      "text/plain": [
       "<Figure size 432x288 with 1 Axes>"
      ]
     },
     "metadata": {
      "needs_background": "light"
     },
     "output_type": "display_data"
    }
   ],
   "source": [
    "tabela_ranque = np.zeros((len(matriz), 1))\n",
    "for i in range(len(matriz)):\n",
    "    tabela_ranque[i] = rank_nodes[i]\n",
    "\n",
    "\n",
    "for i in range(5):\n",
    "    temp = rank_to_page(matriz, tabela_ranque[:,i])\n",
    "    tabela_ranque = np.column_stack((tabela_ranque, temp))\n",
    "    \n",
    "print(tabela_ranque.round(3))\n",
    "\n",
    "plt.bar(range(len(matriz)), tabela_ranque[:, -1].round(3), color='red')\n",
    "plt.xticks(range(len(matriz)), list(G.nodes()))\n",
    "plt.show()"
   ]
  },
  {
   "cell_type": "code",
   "execution_count": 917,
   "metadata": {},
   "outputs": [
    {
     "data": {
      "image/png": "[encoded data removed]",
      "text/plain": [
       "<Figure size 432x288 with 1 Axes>"
      ]
     },
     "metadata": {},
     "output_type": "display_data"
    }
   ],
   "source": [
    "pos = nx.circular_layout(G, scale=1)\n",
    "\n",
    "for i in range(len(tabela_ranque)):\n",
    "    nx.draw_networkx_nodes(G, pos, nodelist=[chr(i+65)], node_size=tabela_ranque[i,-1] * 10000)\n",
    "\n",
    "nx.draw_networkx_edges(G, pos, **options, alpha=1)\n",
    "nx.draw_networkx_labels(G, pos, font_size=13, font_family='sans-serif')\n",
    "plt.show()"
   ]
  },
  {
   "cell_type": "markdown",
   "id": "68bcef34",
   "metadata": {},
   "source": [
    "----------------\n",
    "\n",
    "## Referências de estudos:\n",
    "\n",
    "Algoritmo e cálculo para relevância do nó no grafo -\n",
    "<a>https://pt.wikipedia.org/wiki/PageRank</a>\n",
    "\n",
    "Biblioteca de grafos -\n",
    "<a>https://networkx.org/documentation/stable/developer/index.html</a>\n",
    "\n",
    "Cadeias de Markov -\n",
    "<a>https://pt.wikipedia.org/wiki/Cadeias_de_Markov</a>"
   ]
  }
 ],
 "metadata": {
  "interpreter": {
   "hash": "ad2bdc8ecc057115af97d19610ffacc2b4e99fae6737bb82f5d7fb13d2f2c186"
  },
  "kernelspec": {
   "display_name": "Python 3.9.12 ('base')",
   "language": "python",
   "name": "python3"
  },
  "language_info": {
   "codemirror_mode": {
    "name": "ipython",
    "version": 3
   },
   "file_extension": ".py",
   "mimetype": "text/x-python",
   "name": "python",
   "nbconvert_exporter": "python",
   "pygments_lexer": "ipython3",
   "version": "3.9.12"
  }
 },
 "nbformat": 4,
 "nbformat_minor": 5
}
