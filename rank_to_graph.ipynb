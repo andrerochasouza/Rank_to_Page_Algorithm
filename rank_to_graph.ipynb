{
 "cells": [
  {
   "cell_type": "markdown",
   "id": "4a55e964",
   "metadata": {},
   "source": [
    "# Sobre o algoritmo Rank to Page\n",
    "\n",
    "O intuito desse jupyter notebook é desenvolver da melhor forma, o algoritmo de rank de grafo, tendo como base o algoritmo de Stanford, criado por Larry Page (PageRank), utilizado para ranquear as páginas mais relevantes da Web, feito pelo Google.\n",
    "\n",
    "----------------\n",
    "Bibliotecas"
   ]
  },
  {
   "cell_type": "code",
   "execution_count": 12,
   "id": "85e3876e",
   "metadata": {},
   "outputs": [],
   "source": [
    "import numpy as np\n",
    "import networkx as nx\n",
    "import matplotlib.pyplot as plt"
   ]
  },
  {
   "cell_type": "markdown",
   "id": "bbdc25ee",
   "metadata": {},
   "source": [
    "-----------------------\n",
    "Criando Grafo com arestas"
   ]
  },
  {
   "cell_type": "code",
   "execution_count": 13,
   "metadata": {},
   "outputs": [
    {
     "data": {
      "image/png": "[encoded data removed]",
      "text/plain": [
       "<Figure size 432x288 with 1 Axes>"
      ]
     },
     "metadata": {},
     "output_type": "display_data"
    }
   ],
   "source": [
    "G = nx.Graph()\n",
    "G.add_edges_from([('A', 'B'), ('A', 'C'), ('A', 'D'), \n",
    "                  ('B', 'E'), ('B', 'F'), ('F', 'D'), \n",
    "                  ('D', 'G'), ('E', 'G'), ('F', 'G'),\n",
    "                  ('G', 'E'), ('F', 'B'), ('F', 'A')])\n",
    "\n",
    "pos = nx.spring_layout(G)\n",
    "nx.draw(G, pos, with_labels=True, node_size=1500, node_color='#800000',\n",
    "        edge_color='black', font_size=10, font_color='white')"
   ]
  },
  {
   "cell_type": "markdown",
   "id": "d954eb44",
   "metadata": {},
   "source": [
    "----------------\n",
    "Criando matriz para melhorar a visualização e a utilização do grafo, dos nós e arestas."
   ]
  },
  {
   "cell_type": "code",
   "execution_count": 14,
   "metadata": {},
   "outputs": [
    {
     "name": "stdout",
     "output_type": "stream",
     "text": [
      "[[0. 1. 1. 1. 0. 1. 0.]\n",
      " [1. 0. 0. 0. 1. 1. 0.]\n",
      " [1. 0. 0. 0. 0. 0. 0.]\n",
      " [1. 0. 0. 0. 0. 1. 1.]\n",
      " [0. 1. 0. 0. 0. 0. 1.]\n",
      " [1. 1. 0. 1. 0. 0. 1.]\n",
      " [0. 0. 0. 1. 1. 1. 0.]]\n"
     ]
    },
    {
     "data": {
      "image/png": "[encoded data removed]",
      "text/plain": [
       "<Figure size 432x288 with 1 Axes>"
      ]
     },
     "metadata": {
      "needs_background": "light"
     },
     "output_type": "display_data"
    }
   ],
   "source": [
    "matriz = nx.to_numpy_matrix(G)\n",
    "for i in range(len(matriz)):\n",
    "    for j in range(len(matriz)):\n",
    "        if G.has_edge(i, j):\n",
    "            matriz[i][j] = 1\n",
    "\n",
    "print(matriz)\n",
    "\n",
    "colunas = [\"A\", \"B\", \"C\", \"D\", \"E\", \"F\", \"G\"]\n",
    "\n",
    "plt.imshow(matriz, cmap='Reds', interpolation='nearest')\n",
    "plt.xticks(range(len(colunas)), colunas)\n",
    "plt.yticks(range(len(colunas)), colunas)\n",
    "plt.show()\n"
   ]
  },
  {
   "cell_type": "markdown",
   "id": "522f756f",
   "metadata": {},
   "source": [
    "----------------\n",
    "Calculo de Rank:\n",
    "\n",
    "<div style=\"background-color: white; width: 300px\">\n",
    "    <img src=\"calc_to_rank.png\">\n",
    "</div>"
   ]
  },
  {
   "cell_type": "code",
   "execution_count": 109,
   "id": "acaa7c18",
   "metadata": {},
   "outputs": [
    {
     "ename": "TypeError",
     "evalue": "_append_dispatcher() missing 1 required positional argument: 'values'",
     "output_type": "error",
     "traceback": [
      "\u001b[1;31m---------------------------------------------------------------------------\u001b[0m",
      "\u001b[1;31mTypeError\u001b[0m                                 Traceback (most recent call last)",
      "\u001b[1;32mc:\\Users\\André da Rocha Souza\\Desktop\\train python\\Rank_to_Page_Algorithm\\rank_to_graph.ipynb Cell 8'\u001b[0m in \u001b[0;36m<cell line: 18>\u001b[1;34m()\u001b[0m\n\u001b[0;32m     <a href='vscode-notebook-cell:/c%3A/Users/Andr%C3%A9%20da%20Rocha%20Souza/Desktop/train%20python/Rank_to_Page_Algorithm/rank_to_graph.ipynb#ch0000009?line=14'>15</a>\u001b[0m     \u001b[39mreturn\u001b[39;00m list_rank\n\u001b[0;32m     <a href='vscode-notebook-cell:/c%3A/Users/Andr%C3%A9%20da%20Rocha%20Souza/Desktop/train%20python/Rank_to_Page_Algorithm/rank_to_graph.ipynb#ch0000009?line=16'>17</a>\u001b[0m rank_initial \u001b[39m=\u001b[39m [\u001b[39m1\u001b[39m \u001b[39m/\u001b[39m \u001b[39mlen\u001b[39m(matriz) \u001b[39mfor\u001b[39;00m i \u001b[39min\u001b[39;00m \u001b[39mrange\u001b[39m(\u001b[39mlen\u001b[39m(matriz))]\n\u001b[1;32m---> <a href='vscode-notebook-cell:/c%3A/Users/Andr%C3%A9%20da%20Rocha%20Souza/Desktop/train%20python/Rank_to_Page_Algorithm/rank_to_graph.ipynb#ch0000009?line=17'>18</a>\u001b[0m rank \u001b[39m=\u001b[39m rank_to_graph(matriz, rank_initial)\n\u001b[0;32m     <a href='vscode-notebook-cell:/c%3A/Users/Andr%C3%A9%20da%20Rocha%20Souza/Desktop/train%20python/Rank_to_Page_Algorithm/rank_to_graph.ipynb#ch0000009?line=18'>19</a>\u001b[0m \u001b[39mprint\u001b[39m(rank)\n\u001b[0;32m     <a href='vscode-notebook-cell:/c%3A/Users/Andr%C3%A9%20da%20Rocha%20Souza/Desktop/train%20python/Rank_to_Page_Algorithm/rank_to_graph.ipynb#ch0000009?line=20'>21</a>\u001b[0m plt\u001b[39m.\u001b[39mbar(\u001b[39mrange\u001b[39m(\u001b[39mlen\u001b[39m(rank)), rank, color\u001b[39m=\u001b[39m\u001b[39m'\u001b[39m\u001b[39m#800000\u001b[39m\u001b[39m'\u001b[39m)\n",
      "\u001b[1;32mc:\\Users\\André da Rocha Souza\\Desktop\\train python\\Rank_to_Page_Algorithm\\rank_to_graph.ipynb Cell 8'\u001b[0m in \u001b[0;36mrank_to_graph\u001b[1;34m(matriz, rank_nodes)\u001b[0m\n\u001b[0;32m      <a href='vscode-notebook-cell:/c%3A/Users/Andr%C3%A9%20da%20Rocha%20Souza/Desktop/train%20python/Rank_to_Page_Algorithm/rank_to_graph.ipynb#ch0000009?line=2'>3</a>\u001b[0m list_rank \u001b[39m=\u001b[39m np\u001b[39m.\u001b[39mzeros(\u001b[39mlen\u001b[39m(matriz))\n\u001b[0;32m      <a href='vscode-notebook-cell:/c%3A/Users/Andr%C3%A9%20da%20Rocha%20Souza/Desktop/train%20python/Rank_to_Page_Algorithm/rank_to_graph.ipynb#ch0000009?line=4'>5</a>\u001b[0m \u001b[39mfor\u001b[39;00m i \u001b[39min\u001b[39;00m \u001b[39mrange\u001b[39m(\u001b[39mlen\u001b[39m(matriz)):\n\u001b[1;32m----> <a href='vscode-notebook-cell:/c%3A/Users/Andr%C3%A9%20da%20Rocha%20Souza/Desktop/train%20python/Rank_to_Page_Algorithm/rank_to_graph.ipynb#ch0000009?line=5'>6</a>\u001b[0m     list_arestas \u001b[39m=\u001b[39m np\u001b[39m.\u001b[39;49mappend(np\u001b[39m.\u001b[39;49msum(matriz[i]))\n\u001b[0;32m      <a href='vscode-notebook-cell:/c%3A/Users/Andr%C3%A9%20da%20Rocha%20Souza/Desktop/train%20python/Rank_to_Page_Algorithm/rank_to_graph.ipynb#ch0000009?line=7'>8</a>\u001b[0m \u001b[39mfor\u001b[39;00m i \u001b[39min\u001b[39;00m \u001b[39mrange\u001b[39m(\u001b[39mlen\u001b[39m(matriz)):\n\u001b[0;32m      <a href='vscode-notebook-cell:/c%3A/Users/Andr%C3%A9%20da%20Rocha%20Souza/Desktop/train%20python/Rank_to_Page_Algorithm/rank_to_graph.ipynb#ch0000009?line=8'>9</a>\u001b[0m     list_pr_div \u001b[39m=\u001b[39m np\u001b[39m.\u001b[39mappend(rank_nodes[i] \u001b[39m/\u001b[39m list_arestas[i])\n",
      "File \u001b[1;32m<__array_function__ internals>:4\u001b[0m, in \u001b[0;36mappend\u001b[1;34m(*args, **kwargs)\u001b[0m\n",
      "\u001b[1;31mTypeError\u001b[0m: _append_dispatcher() missing 1 required positional argument: 'values'"
     ]
    }
   ],
   "source": [
    "def rank_to_graph(matriz, rank_nodes):\n",
    "    list_arestas, list_pr_div = np.zeros(len(matriz)), np.zeros(len(matriz))\n",
    "    list_rank = np.zeros(len(matriz))\n",
    "\n",
    "    for i in range(len(matriz)):\n",
    "        list_arestas = np.append(np.sum(matriz[i]))\n",
    "\n",
    "    for i in range(len(matriz)):\n",
    "        list_pr_div = np.append(rank_nodes[i] / list_arestas[i])\n",
    "    \n",
    "    for i in range(len(matriz)):\n",
    "        list_amortecimento_sem_i = np.delete(list_pr_div, i)\n",
    "        list_rank[i] = ((1 - 0.85) / len(matriz)) + (0.85 * np.sum(list_amortecimento_sem_i))\n",
    "\n",
    "    return list_rank\n",
    "\n",
    "rank_initial = [1 / len(matriz) for i in range(len(matriz))]\n",
    "rank = rank_to_graph(matriz, rank_initial)\n",
    "print(rank)\n",
    "\n",
    "plt.bar(range(len(rank)), rank, color='#800000')\n",
    "plt.xticks(range(len(rank)), colunas)\n",
    "plt.xlabel('Nós')\n",
    "plt.show()\n"
   ]
  }
 ],
 "metadata": {
  "interpreter": {
   "hash": "ad2bdc8ecc057115af97d19610ffacc2b4e99fae6737bb82f5d7fb13d2f2c186"
  },
  "kernelspec": {
   "display_name": "Python 3.9.12 ('base')",
   "language": "python",
   "name": "python3"
  },
  "language_info": {
   "codemirror_mode": {
    "name": "ipython",
    "version": 3
   },
   "file_extension": ".py",
   "mimetype": "text/x-python",
   "name": "python",
   "nbconvert_exporter": "python",
   "pygments_lexer": "ipython3",
   "version": "3.9.12"
  }
 },
 "nbformat": 4,
 "nbformat_minor": 5
}
