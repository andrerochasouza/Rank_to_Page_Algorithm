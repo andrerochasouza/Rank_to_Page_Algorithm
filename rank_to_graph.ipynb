{
 "cells": [
  {
   "cell_type": "markdown",
   "id": "4a55e964",
   "metadata": {},
   "source": [
    "# Sobre o algoritmo\n",
    "\n",
    "O intuito desse jupyter notebook é desenvolver o algoritmo de rank de grafo, tendo como base o algoritmo PageRank de Stanford, criado por Larry Page, co-fundador da Google, muito utilizado para ranquear as páginas mais relevantes da Web pelos hiperlink conectados.\n",
    "\n",
    "----------------\n",
    "Bibliotecas utilizadas"
   ]
  },
  {
   "cell_type": "code",
   "execution_count": 109,
   "id": "85e3876e",
   "metadata": {},
   "outputs": [],
   "source": [
    "import numpy as np\n",
    "import random\n",
    "import matplotlib.pyplot as plt\n",
    "import networkx as nx"
   ]
  },
  {
   "cell_type": "markdown",
   "id": "bbdc25ee",
   "metadata": {},
   "source": [
    "-----------------------\n",
    "Criando Grafo com arestas direcionadas"
   ]
  },
  {
   "cell_type": "code",
   "execution_count": 110,
   "metadata": {},
   "outputs": [
    {
     "data": {
      "image/png": "[encoded data removed]",
      "text/plain": [
       "<Figure size 432x288 with 1 Axes>"
      ]
     },
     "metadata": {},
     "output_type": "display_data"
    }
   ],
   "source": [
    "def create_graph(nodes, edges):\n",
    "    G = nx. DiGraph()\n",
    "    for i in range(nodes):\n",
    "        G.add_node(chr(i+65))\n",
    "    \n",
    "    for i in range(edges):\n",
    "        G.add_edge(chr(random.randint(65, nodes+64)), chr(random.randint(65, nodes+64)))\n",
    "\n",
    "    return G\n",
    "\n",
    "G = create_graph(5, 10)\n",
    "\n",
    "pos = nx.spring_layout(G)\n",
    "nx.draw(G, pos, with_labels=True, node_size=1000)\n",
    "plt.show()\n"
   ]
  },
  {
   "cell_type": "markdown",
   "id": "d954eb44",
   "metadata": {},
   "source": [
    "----------------\n",
    "Criando matriz de adjacências para melhor visualização do grafo"
   ]
  },
  {
   "cell_type": "code",
   "execution_count": 118,
   "metadata": {},
   "outputs": [
    {
     "name": "stdout",
     "output_type": "stream",
     "text": [
      "[[0. 0. 0. 0. 1.]\n",
      " [1. 1. 0. 1. 1.]\n",
      " [1. 1. 0. 0. 0.]\n",
      " [0. 0. 0. 0. 0.]\n",
      " [0. 1. 0. 1. 0.]]\n"
     ]
    },
    {
     "data": {
      "image/png": "[encoded data removed]",
      "text/plain": [
       "<Figure size 432x288 with 1 Axes>"
      ]
     },
     "metadata": {
      "needs_background": "light"
     },
     "output_type": "display_data"
    }
   ],
   "source": [
    "matriz = nx.to_numpy_matrix(G)\n",
    "for i in range(len(matriz)):\n",
    "    for j in range(len(matriz)):\n",
    "        if G.has_edge(i, j):\n",
    "            matriz[i][j] = 1\n",
    "\n",
    "print(matriz)\n",
    "\n",
    "\n",
    "plt.imshow(matriz, cmap='Reds', interpolation='nearest')\n",
    "plt.xticks(range(len(matriz)), list(G.nodes()))\n",
    "plt.yticks(range(len(matriz)), list(G.nodes()))\n",
    "plt.show()\n"
   ]
  },
  {
   "cell_type": "markdown",
   "id": "522f756f",
   "metadata": {},
   "source": [
    "----------------\n",
    "\n",
    "Calculo de ranqueamento dos nós:\n",
    "\n",
    "<div style=\"background-color: white; width: 300px\">\n",
    "    <img src=\"calc_to_rank.png\">\n",
    "</div>"
   ]
  },
  {
   "cell_type": "code",
   "execution_count": 112,
   "id": "acaa7c18",
   "metadata": {},
   "outputs": [
    {
     "name": "stdout",
     "output_type": "stream",
     "text": [
      "[[0.2   ]\n",
      " [0.0725]\n",
      " [0.03  ]\n",
      " [0.03  ]\n",
      " [0.03  ]]\n"
     ]
    },
    {
     "name": "stderr",
     "output_type": "stream",
     "text": [
      "C:\\Users\\André da Rocha Souza\\AppData\\Local\\Temp\\ipykernel_12508\\2268045879.py:11: RuntimeWarning: divide by zero encountered in double_scalars\n",
      "  list_r[i] = rank_nodes[i] / list_sum_arestas[i]\n"
     ]
    }
   ],
   "source": [
    "def rank_to_graph(matriz, rank_nodes):\n",
    "    if rank_nodes is None:\n",
    "        rank_nodes = [1 / len(matriz) for i in range(len(matriz))]\n",
    "\n",
    "    list_sum_arestas, list_r, list_rank = np.zeros(len(matriz)), np.zeros(len(matriz)), np.zeros(len(matriz))\n",
    "\n",
    "    for i in range(len(matriz)):\n",
    "        list_sum_arestas[i] = np.sum(matriz[i])\n",
    "\n",
    "    for i in range(len(matriz)):\n",
    "        list_r[i] = rank_nodes[i] / list_sum_arestas[i]\n",
    "        \n",
    "    for i in range(len(matriz)):\n",
    "        for j in range(len(matriz)):\n",
    "            list_to_sum_nodes = []\n",
    "            if matriz[i,j] == 1 and i != j:\n",
    "                list_to_sum_nodes = np.append(list_to_sum_nodes, list_r[i])\n",
    "        list_rank[i] = (1 - 0.85) / len(matriz) + 0.85 * np.sum(list_to_sum_nodes)    \n",
    "        \n",
    "    rank_final = np.zeros((len(matriz), 1))\n",
    "    for i in range(len(matriz)):\n",
    "        rank_final[i] = list_rank[i]\n",
    "\n",
    "    return rank_final\n",
    "\n",
    "print(rank_to_graph(matriz, None))"
   ]
  },
  {
   "cell_type": "code",
   "execution_count": 113,
   "id": "79592349",
   "metadata": {},
   "outputs": [
    {
     "name": "stderr",
     "output_type": "stream",
     "text": [
      "C:\\Users\\André da Rocha Souza\\AppData\\Local\\Temp\\ipykernel_12508\\2268045879.py:11: RuntimeWarning: divide by zero encountered in double_scalars\n",
      "  list_r[i] = rank_nodes[i] / list_sum_arestas[i]\n"
     ]
    },
    {
     "name": "stdout",
     "output_type": "stream",
     "text": [
      "[0.2   0.038 0.03  0.03  0.03 ]\n"
     ]
    },
    {
     "data": {
      "image/png": "[encoded data removed]",
      "text/plain": [
       "<Figure size 432x288 with 1 Axes>"
      ]
     },
     "metadata": {
      "needs_background": "light"
     },
     "output_type": "display_data"
    }
   ],
   "source": [
    "rank = np.zeros((len(matriz), 1))\n",
    "\n",
    "for i in range(len(matriz)):\n",
    "    rank[i] = rank_to_graph(matriz, None)[i]\n",
    "\n",
    "k = 0\n",
    "while k < 20:\n",
    "    rank = np.append(rank, rank_to_graph(matriz, rank[:,-1]), axis = 1)\n",
    "    k += 1\n",
    "\n",
    "print(np.round(rank, decimals=3)[:,-1])\n",
    "\n",
    "plt.bar(range(len(rank)), rank[:, -1])\n",
    "plt.xticks(range(len(rank)), list(G.nodes()))\n",
    "plt.show()\n",
    "\n"
   ]
  },
  {
   "cell_type": "markdown",
   "id": "68bcef34",
   "metadata": {},
   "source": [
    "----------------\n",
    "\n",
    "Referências de estudo do algoritmo:\n",
    "\n",
    "<a src='https://algoritmosempython.com.br/cursos/algoritmos-python/algoritmos-grafos/representacao-grafos/'>"
   ]
  }
 ],
 "metadata": {
  "interpreter": {
   "hash": "ad2bdc8ecc057115af97d19610ffacc2b4e99fae6737bb82f5d7fb13d2f2c186"
  },
  "kernelspec": {
   "display_name": "Python 3.9.12 ('base')",
   "language": "python",
   "name": "python3"
  },
  "language_info": {
   "codemirror_mode": {
    "name": "ipython",
    "version": 3
   },
   "file_extension": ".py",
   "mimetype": "text/x-python",
   "name": "python",
   "nbconvert_exporter": "python",
   "pygments_lexer": "ipython3",
   "version": "3.9.12"
  }
 },
 "nbformat": 4,
 "nbformat_minor": 5
}
