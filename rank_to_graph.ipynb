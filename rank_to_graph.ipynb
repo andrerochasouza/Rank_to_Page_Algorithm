{
 "cells": [
  {
   "cell_type": "markdown",
   "id": "4a55e964",
   "metadata": {},
   "source": [
    "# Sobre o algoritmo Rank to Page\n",
    "\n",
    "O intuito desse jupyter notebook é desenvolver da melhor forma, o algoritmo de rank de grafo, tendo como base o algoritmo de Stanford, criado por Larry Page (PageRank), utilizado para ranquear as páginas mais relevantes da Web, feito pelo Google.\n",
    "\n",
    "----------------\n",
    "Bibliotecas"
   ]
  },
  {
   "cell_type": "code",
   "execution_count": 17,
   "id": "85e3876e",
   "metadata": {},
   "outputs": [],
   "source": [
    "import numpy as np\n",
    "import networkx as nx\n",
    "import matplotlib.pyplot as plt"
   ]
  },
  {
   "cell_type": "markdown",
   "id": "bbdc25ee",
   "metadata": {},
   "source": [
    "-----------------------\n",
    "Criando Grafo com arestas"
   ]
  },
  {
   "cell_type": "code",
   "execution_count": 18,
   "metadata": {},
   "outputs": [
    {
     "data": {
      "image/png": "[encoded data removed]",
      "text/plain": [
       "<Figure size 432x288 with 1 Axes>"
      ]
     },
     "metadata": {},
     "output_type": "display_data"
    }
   ],
   "source": [
    "G = nx.Graph()\n",
    "G.add_edges_from([('A', 'B'), ('A', 'C'), ('A', 'D'), \n",
    "                  ('B', 'E'), ('B', 'F'), ('F', 'D'), \n",
    "                  ('D', 'G'), ('E', 'G'), ('F', 'G'),\n",
    "                  ('G', 'E'), ('F', 'B'), ('F', 'A')])\n",
    "\n",
    "pos = nx.spring_layout(G)\n",
    "nx.draw(G, pos, with_labels=True, node_size=1500, node_color='#800000',\n",
    "        edge_color='black', font_size=10, font_color='white')"
   ]
  },
  {
   "cell_type": "markdown",
   "id": "d954eb44",
   "metadata": {},
   "source": [
    "----------------\n",
    "Criando matriz para melhorar a visualização e a utilização do grafo, dos nós e arestas."
   ]
  },
  {
   "cell_type": "code",
   "execution_count": 19,
   "metadata": {},
   "outputs": [
    {
     "name": "stdout",
     "output_type": "stream",
     "text": [
      "[[0. 1. 1. 1. 0. 1. 0.]\n",
      " [1. 0. 0. 0. 1. 1. 0.]\n",
      " [1. 0. 0. 0. 0. 0. 0.]\n",
      " [1. 0. 0. 0. 0. 1. 1.]\n",
      " [0. 1. 0. 0. 0. 0. 1.]\n",
      " [1. 1. 0. 1. 0. 0. 1.]\n",
      " [0. 0. 0. 1. 1. 1. 0.]]\n"
     ]
    },
    {
     "data": {
      "image/png": "[encoded data removed]",
      "text/plain": [
       "<Figure size 432x288 with 1 Axes>"
      ]
     },
     "metadata": {
      "needs_background": "light"
     },
     "output_type": "display_data"
    }
   ],
   "source": [
    "matriz = nx.to_numpy_matrix(G)\n",
    "for i in range(len(matriz)):\n",
    "    for j in range(len(matriz)):\n",
    "        if G.has_edge(i, j):\n",
    "            matriz[i][j] = 1\n",
    "\n",
    "print(matriz)\n",
    "\n",
    "colunas = [\"A\", \"B\", \"C\", \"D\", \"E\", \"F\", \"G\"]\n",
    "\n",
    "plt.imshow(matriz, cmap='Reds', interpolation='nearest')\n",
    "plt.xticks(range(len(colunas)), colunas)\n",
    "plt.yticks(range(len(colunas)), colunas)\n",
    "plt.show()\n"
   ]
  },
  {
   "cell_type": "markdown",
   "id": "522f756f",
   "metadata": {},
   "source": [
    "----------------\n",
    "Calculo de Rank:\n",
    "\n",
    "<div style=\"background-color: white; width: 300px\">\n",
    "    <img src=\"calc_to_rank.png\">\n",
    "</div>"
   ]
  },
  {
   "cell_type": "code",
   "execution_count": 25,
   "id": "acaa7c18",
   "metadata": {},
   "outputs": [
    {
     "name": "stdout",
     "output_type": "stream",
     "text": [
      "0 0\n",
      "0 1\n",
      "0 2\n",
      "0 3\n",
      "0 4\n",
      "0 5\n",
      "0 6\n",
      "1 0\n",
      "1 1\n",
      "1 2\n",
      "1 3\n",
      "1 4\n",
      "1 5\n",
      "1 6\n",
      "2 0\n",
      "2 1\n",
      "2 2\n",
      "2 3\n",
      "2 4\n",
      "2 5\n",
      "2 6\n",
      "3 0\n",
      "3 1\n",
      "3 2\n",
      "3 3\n",
      "3 4\n",
      "3 5\n",
      "3 6\n",
      "4 0\n",
      "4 1\n",
      "4 2\n",
      "4 3\n",
      "4 4\n",
      "4 5\n",
      "4 6\n",
      "5 0\n",
      "5 1\n",
      "5 2\n",
      "5 3\n",
      "5 4\n",
      "5 5\n",
      "5 6\n",
      "6 0\n",
      "6 1\n",
      "6 2\n",
      "6 3\n",
      "6 4\n",
      "6 5\n",
      "6 6\n",
      "[4. 3. 1. 3. 2. 4. 3.] [0.03571429 0.04761905 0.14285714 0.04761905 0.07142857 0.03571429\n",
      " 0.04761905] [0. 0. 0. 0. 0. 0. 0.]\n"
     ]
    },
    {
     "data": {
      "text/plain": [
       "array([0., 0., 0., 0., 0., 0., 0.])"
      ]
     },
     "execution_count": 25,
     "metadata": {},
     "output_type": "execute_result"
    }
   ],
   "source": [
    "def rank_to_graph(matriz, rank_nodes):\n",
    "    if rank_nodes is None:\n",
    "        rank_nodes = [1 / len(matriz) for i in range(len(matriz))]\n",
    "\n",
    "    list_sum_arestas, list_r, list_rank = np.zeros(len(matriz)), np.zeros(len(matriz)), np.zeros(len(matriz))\n",
    "\n",
    "    for i in range(len(matriz)):\n",
    "        list_sum_arestas[i] = np.sum(matriz[i])\n",
    "\n",
    "    for i in range(len(matriz)):\n",
    "        list_r[i] = rank_nodes[i] / list_sum_arestas[i]\n",
    "        \n",
    "    for i in range(len(matriz)):\n",
    "        for j in range(len(matriz)):\n",
    "            print(i, j)\n",
    "\n",
    "\n",
    "        # list_r_i_not = np.delete(list_r, i)\n",
    "        # list_rank[i] = (1 - 0.85) / len(matriz) + 0.85 * np.sum(list_r_i_not)\n",
    "    print(list_sum_arestas, list_r, list_rank)\n",
    "\n",
    "    return list_rank\n",
    "\n",
    "rank_to_graph(matriz, None)"
   ]
  },
  {
   "cell_type": "code",
   "execution_count": 12,
   "id": "79592349",
   "metadata": {},
   "outputs": [
    {
     "name": "stdout",
     "output_type": "stream",
     "text": [
      "[0.35535714 0.3452381  0.26428571 0.3452381  0.325      0.35535714\n",
      " 0.3452381 ]\n",
      "[0.7531622  0.73085813 0.60403274 0.73085813 0.6905506  0.7531622\n",
      " 0.73085813]\n",
      "[1.60961678 1.56258728 1.25623593 1.56258728 1.47617975 1.60961678\n",
      " 1.56258728]\n",
      "[3.38684826 3.28615876 2.66109129 3.28615876 3.10151543 3.38684826\n",
      " 3.28615876]\n",
      "[7.11444042 6.90306736 5.57221808 6.90306736 6.51600162 7.11444042\n",
      " 6.90306736]\n",
      "[14.90654048 14.46248999 11.6819737  14.46248999 13.64905838 14.90654048\n",
      " 14.46248999]\n",
      "[31.21271237 30.28264672 24.45067458 30.28264672 28.57950241 31.21271237\n",
      " 30.28264672]\n",
      "[65.32374158 63.37635972 51.17336957 63.37635972 59.81015443 65.32374158\n",
      " 63.37635972]\n",
      "[136.68930919 132.61396902 107.07324014 132.61396902 125.15128864\n",
      " 136.68930919 132.61396902]\n"
     ]
    }
   ],
   "source": [
    "rank_nodes = None\n",
    "\n",
    "while i < 15:\n",
    "    rank_nodes = rank_to_graph(matriz, rank_nodes)\n",
    "    i += 1\n",
    "    print(rank_nodes)"
   ]
  }
 ],
 "metadata": {
  "interpreter": {
   "hash": "ad2bdc8ecc057115af97d19610ffacc2b4e99fae6737bb82f5d7fb13d2f2c186"
  },
  "kernelspec": {
   "display_name": "Python 3.9.12 ('base')",
   "language": "python",
   "name": "python3"
  },
  "language_info": {
   "codemirror_mode": {
    "name": "ipython",
    "version": 3
   },
   "file_extension": ".py",
   "mimetype": "text/x-python",
   "name": "python",
   "nbconvert_exporter": "python",
   "pygments_lexer": "ipython3",
   "version": "3.9.12"
  }
 },
 "nbformat": 4,
 "nbformat_minor": 5
}
